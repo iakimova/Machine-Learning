{
  "nbformat": 4,
  "nbformat_minor": 0,
  "metadata": {
    "colab": {
      "name": "Group 14 (Wine quality prediction).ipynb",
      "provenance": [],
      "collapsed_sections": []
    },
    "kernelspec": {
      "name": "python3",
      "display_name": "Python 3"
    }
  },
  "cells": [
    {
      "cell_type": "markdown",
      "metadata": {
        "id": "cc0QnoRyjWkx",
        "colab_type": "text"
      },
      "source": [
        "# Wine Quality \"Warm up\" Challenge\n"
      ]
    },
    {
      "cell_type": "markdown",
      "metadata": {
        "id": "UGcDQ785olsK",
        "colab_type": "text"
      },
      "source": [
        "## Introduction"
      ]
    },
    {
      "cell_type": "markdown",
      "metadata": {
        "id": "rrkCD2JkF8A7",
        "colab_type": "text"
      },
      "source": [
        "In the following presentation we are outlining our key findings about the statistical properties of the dataset given, before we discuss the chosen model and justify its performance. In the presentation we provide plots and code where it is feasable, but we try to convey our message mostly with short consise statements and theoretical information. A \"scratchbook\" consisting of the used code are supplied to support our claims, and give the reader an oppertunity to examine the code himself.\n",
        "\n",
        "The dataset given consist of various types of wine and has 1599 observations of red wine and 4898 observations of white wine. For each type we have the wine quality (scored between 0 and 10) and eleven chemical attributes."
      ]
    },
    {
      "cell_type": "code",
      "metadata": {
        "id": "9HJNG-7EmIBj",
        "colab_type": "code",
        "colab": {}
      },
      "source": [
        "#libraries \n",
        "import numpy as np\n",
        "import pandas as pd\n",
        "import seaborn as sns\n",
        "import matplotlib.pyplot as plt\n",
        "from scipy import stats\n",
        "from imblearn.over_sampling import RandomOverSampler\n",
        "\n",
        "#Model libraries\n",
        "from sklearn.preprocessing import MinMaxScaler\n",
        "from sklearn.model_selection import train_test_split\n",
        "from sklearn.model_selection import cross_val_score\n",
        "from sklearn.model_selection import cross_validate\n",
        "from sklearn.model_selection import GridSearchCV\n",
        "from sklearn.linear_model import LogisticRegression\n",
        "from sklearn.linear_model import LinearRegression\n",
        "from sklearn.discriminant_analysis import LinearDiscriminantAnalysis\n",
        "from sklearn.neighbors import KNeighborsClassifier\n",
        "from sklearn import svm\n",
        "from sklearn.naive_bayes import GaussianNB\n",
        "from sklearn.ensemble import RandomForestClassifier\n",
        "from sklearn.metrics import accuracy_score\n",
        "from sklearn.metrics import log_loss\n",
        "from sklearn.metrics import f1_score\n",
        "from sklearn.metrics import precision_recall_fscore_support as score"
      ],
      "execution_count": 0,
      "outputs": []
    },
    {
      "cell_type": "markdown",
      "metadata": {
        "id": "XiSiEiQVi_OM",
        "colab_type": "text"
      },
      "source": [
        "## Data preparation "
      ]
    },
    {
      "cell_type": "markdown",
      "metadata": {
        "id": "YxX8jeaw_9jj",
        "colab_type": "text"
      },
      "source": [
        "TODO:\n",
        "* Talk about overfitting/underfitting\n",
        "* Do not talk about every iteration, but say that we worked hard and show our results\n",
        "* Maybe only remove outliers from trainingset, and not from testset\n",
        "\n",
        "\n"
      ]
    },
    {
      "cell_type": "markdown",
      "metadata": {
        "id": "WqHEY4vnoDfa",
        "colab_type": "text"
      },
      "source": [
        "After examining the datasets for the white- and red wine, we found no differences between the columns of the two tables. We therefore decided to combine two datasets into a single one in order to reduce complexity. It is also convenient with a single model that can determine the overall quality of a wine, regardless of its color. The wines are described using the following attributes:\n",
        "\n",
        "\n",
        "* <b>Fixed acidity</b> - The most acids involved with the wine taste such as tartaric, malic, citric, and succinic.\n",
        "* <b>Volatile acidity</b> - The acids that are steam distilled acids present in wine.\n",
        "* <b>Citric acid</b> - The acid that is found in citrus fruits, especially lemons and limes. It’s what gives to wine the tart and sour taste.\n",
        "* <b>Residual sugar</b> - The amount of sugar that remains in a wine after fermentation completes. \n",
        "* <b>Chlorides</b> - The amount of salt in the wine \n",
        "* <b>Free sulfur dioxide (SO2) </b> - The amount of SO2 that is not bound to other molecules, and is used to exert an antioxidant/preservative action.\n",
        "* <b>Total sulfur dioxide (SO2) </b> - The total amount of free and bound forms of S02;\n",
        "* <b>Density</b> - The winemaking measurement that defined as the mass, or weight, per volume of material.\n",
        "* <b>pH</b> - The measure of the degree of relative acidity versus the relative alkalinity of any liquid, on a scale of 0 to 14, with 7 being neutral.\n",
        "* <b>Sulphates</b> - The food preservative playing an important role in preventing oxidization and maintaining a wine's freshness\n",
        "* <b>Alcohol</b> - The percentage of alcohol in the wine measured in % volume\n",
        "\n",
        "* <b> Quality</b> - The output variable rated from \"0\" to \"10\" \n",
        "\n"
      ]
    },
    {
      "cell_type": "code",
      "metadata": {
        "id": "gvIEpE6skQ_T",
        "colab_type": "code",
        "colab": {}
      },
      "source": [
        "winequality_red = pd.read_csv('winequality-red.csv', delimiter=';')\n",
        "winequality_white = pd.read_csv('winequality-white.csv', delimiter=';') \n",
        "winequality = pd.concat([winequality_red, winequality_white], axis=0).astype(float)"
      ],
      "execution_count": 0,
      "outputs": []
    },
    {
      "cell_type": "markdown",
      "metadata": {
        "id": "c8_Dchsdq8d7",
        "colab_type": "text"
      },
      "source": [
        "To improve our models chances of producing useful predictions, we convert our quality feature to a binary value, and thereby converting the problem to a classification problem. The quality feature are given from the dataset as a value from 1-10, but in reality a wine is good only if its quality are above some (rather individual) threshold. For the sake of argument we set this threshold to 7, but it could easily be changed in the future. This means that a wine is marked as \"good\" if its quality is 7 or above, and \"bad\" if its quality are below 7. We denote \"good\" as 1 and \"bad\" as 0."
      ]
    },
    {
      "cell_type": "code",
      "metadata": {
        "id": "jQEO-_2omYLz",
        "colab_type": "code",
        "colab": {}
      },
      "source": [
        "# Convert all the target quality numbers to binary.\n",
        "quality_threshold = 7\n",
        "\n",
        "winequality.loc[winequality['quality'] < quality_threshold, 'quality'] = 0\n",
        "winequality.loc[winequality['quality'] >= quality_threshold, 'quality'] = 1"
      ],
      "execution_count": 0,
      "outputs": []
    },
    {
      "cell_type": "markdown",
      "metadata": {
        "id": "us5s08UJn2B1",
        "colab_type": "text"
      },
      "source": [
        "The head of the dataset are plotted to give the reader an understanding of the data at hand."
      ]
    },
    {
      "cell_type": "code",
      "metadata": {
        "id": "OYCyQvF4m9aM",
        "colab_type": "code",
        "outputId": "0f497ee1-8cf6-4826-91bb-a65084765d4f",
        "colab": {
          "base_uri": "https://localhost:8080/",
          "height": 238
        }
      },
      "source": [
        "winequality.head()"
      ],
      "execution_count": 0,
      "outputs": [
        {
          "output_type": "execute_result",
          "data": {
            "text/html": [
              "<div>\n",
              "<style scoped>\n",
              "    .dataframe tbody tr th:only-of-type {\n",
              "        vertical-align: middle;\n",
              "    }\n",
              "\n",
              "    .dataframe tbody tr th {\n",
              "        vertical-align: top;\n",
              "    }\n",
              "\n",
              "    .dataframe thead th {\n",
              "        text-align: right;\n",
              "    }\n",
              "</style>\n",
              "<table border=\"1\" class=\"dataframe\">\n",
              "  <thead>\n",
              "    <tr style=\"text-align: right;\">\n",
              "      <th></th>\n",
              "      <th>fixed acidity</th>\n",
              "      <th>volatile acidity</th>\n",
              "      <th>citric acid</th>\n",
              "      <th>residual sugar</th>\n",
              "      <th>chlorides</th>\n",
              "      <th>free sulfur dioxide</th>\n",
              "      <th>total sulfur dioxide</th>\n",
              "      <th>density</th>\n",
              "      <th>pH</th>\n",
              "      <th>sulphates</th>\n",
              "      <th>alcohol</th>\n",
              "      <th>quality</th>\n",
              "    </tr>\n",
              "  </thead>\n",
              "  <tbody>\n",
              "    <tr>\n",
              "      <th>0</th>\n",
              "      <td>7.4</td>\n",
              "      <td>0.70</td>\n",
              "      <td>0.00</td>\n",
              "      <td>1.9</td>\n",
              "      <td>0.076</td>\n",
              "      <td>11.0</td>\n",
              "      <td>34.0</td>\n",
              "      <td>0.9978</td>\n",
              "      <td>3.51</td>\n",
              "      <td>0.56</td>\n",
              "      <td>9.4</td>\n",
              "      <td>0.0</td>\n",
              "    </tr>\n",
              "    <tr>\n",
              "      <th>1</th>\n",
              "      <td>7.8</td>\n",
              "      <td>0.88</td>\n",
              "      <td>0.00</td>\n",
              "      <td>2.6</td>\n",
              "      <td>0.098</td>\n",
              "      <td>25.0</td>\n",
              "      <td>67.0</td>\n",
              "      <td>0.9968</td>\n",
              "      <td>3.20</td>\n",
              "      <td>0.68</td>\n",
              "      <td>9.8</td>\n",
              "      <td>0.0</td>\n",
              "    </tr>\n",
              "    <tr>\n",
              "      <th>2</th>\n",
              "      <td>7.8</td>\n",
              "      <td>0.76</td>\n",
              "      <td>0.04</td>\n",
              "      <td>2.3</td>\n",
              "      <td>0.092</td>\n",
              "      <td>15.0</td>\n",
              "      <td>54.0</td>\n",
              "      <td>0.9970</td>\n",
              "      <td>3.26</td>\n",
              "      <td>0.65</td>\n",
              "      <td>9.8</td>\n",
              "      <td>0.0</td>\n",
              "    </tr>\n",
              "    <tr>\n",
              "      <th>3</th>\n",
              "      <td>11.2</td>\n",
              "      <td>0.28</td>\n",
              "      <td>0.56</td>\n",
              "      <td>1.9</td>\n",
              "      <td>0.075</td>\n",
              "      <td>17.0</td>\n",
              "      <td>60.0</td>\n",
              "      <td>0.9980</td>\n",
              "      <td>3.16</td>\n",
              "      <td>0.58</td>\n",
              "      <td>9.8</td>\n",
              "      <td>0.0</td>\n",
              "    </tr>\n",
              "    <tr>\n",
              "      <th>4</th>\n",
              "      <td>7.4</td>\n",
              "      <td>0.70</td>\n",
              "      <td>0.00</td>\n",
              "      <td>1.9</td>\n",
              "      <td>0.076</td>\n",
              "      <td>11.0</td>\n",
              "      <td>34.0</td>\n",
              "      <td>0.9978</td>\n",
              "      <td>3.51</td>\n",
              "      <td>0.56</td>\n",
              "      <td>9.4</td>\n",
              "      <td>0.0</td>\n",
              "    </tr>\n",
              "  </tbody>\n",
              "</table>\n",
              "</div>"
            ],
            "text/plain": [
              "   fixed acidity  volatile acidity  citric acid  ...  sulphates  alcohol  quality\n",
              "0            7.4              0.70         0.00  ...       0.56      9.4      0.0\n",
              "1            7.8              0.88         0.00  ...       0.68      9.8      0.0\n",
              "2            7.8              0.76         0.04  ...       0.65      9.8      0.0\n",
              "3           11.2              0.28         0.56  ...       0.58      9.8      0.0\n",
              "4            7.4              0.70         0.00  ...       0.56      9.4      0.0\n",
              "\n",
              "[5 rows x 12 columns]"
            ]
          },
          "metadata": {
            "tags": []
          },
          "execution_count": 6
        }
      ]
    },
    {
      "cell_type": "markdown",
      "metadata": {
        "id": "4IwtrPd8udjR",
        "colab_type": "text"
      },
      "source": [
        "<b>Feature selection</b>\n",
        "\n",
        "Since the quality feature are the feature we are trying to predict from new wines, it is regarded as the target variable. It is interesting to study how much a wines attribute corrolates with the quality of the wine. The table below shows the detailed pearson correlation between each attribute and the quality feature. The pearson correlation are a number between -1 and 1 that indicates the extent to which two variables are linearly corrolated. \n",
        "\n",
        "\n"
      ]
    },
    {
      "cell_type": "code",
      "metadata": {
        "id": "PtAySsjMtO2I",
        "colab_type": "code",
        "outputId": "ae0a55c9-b7ea-403a-dcd6-223cce448b5d",
        "colab": {
          "base_uri": "https://localhost:8080/",
          "height": 221
        }
      },
      "source": [
        "winequality_correlations = winequality.corr()['quality'].drop('quality')\n",
        "print(winequality_correlations)"
      ],
      "execution_count": 0,
      "outputs": [
        {
          "output_type": "stream",
          "text": [
            "fixed acidity          -0.049447\n",
            "volatile acidity       -0.151714\n",
            "citric acid             0.054444\n",
            "residual sugar         -0.063992\n",
            "chlorides              -0.161781\n",
            "free sulfur dioxide     0.014767\n",
            "total sulfur dioxide   -0.051226\n",
            "density                -0.275441\n",
            "pH                      0.028149\n",
            "sulphates               0.033971\n",
            "alcohol                 0.390486\n",
            "Name: quality, dtype: float64\n"
          ],
          "name": "stdout"
        }
      ]
    },
    {
      "cell_type": "markdown",
      "metadata": {
        "id": "xLRTFXp7pMoh",
        "colab_type": "text"
      },
      "source": [
        "The correlation table indicates that \"alcohol\" and \"density\" have the highest correlation with the quality, while \"free sulfur dioxide\", \"total sulfur dioxide\", \"pH\" have low correlation with the quality. Because of this, we can probably remove these last features from the analysis all together. Although it might sound counter intuitive to remove information, we do not want our model to care about insignificant things that draw the attention from the features that are actually corolated with the target we are trying to explain. "
      ]
    },
    {
      "cell_type": "markdown",
      "metadata": {
        "id": "7C7lPX5sxEOA",
        "colab_type": "text"
      },
      "source": [
        "Further, we can not assume that our model are able to handle outliers. Outliers are datapoints that lie too far away from the normal to be of any value, and are as such removed from the dataset. They can occur because of measuring errors, or simply because they are extreme cases. They are so rare that we are not interested in predicting they properly.  We do not want our model to try to learn these values when they differ too much from the other points, as that deteriorates our model. The outlier are defined as points that lie more than 3 standard deivations away from the mean, and are removed with the code below."
      ]
    },
    {
      "cell_type": "code",
      "metadata": {
        "id": "6Xbgs_v26whn",
        "colab_type": "code",
        "colab": {}
      },
      "source": [
        "winequality = winequality[(np.abs(stats.zscore(winequality))<3).all(axis=1)]"
      ],
      "execution_count": 0,
      "outputs": []
    },
    {
      "cell_type": "markdown",
      "metadata": {
        "id": "u5OgeElMr7dv",
        "colab_type": "text"
      },
      "source": [
        "<b>Train test split</b>\n",
        "The dataset are split into a trainingset and testset with the code below. Because it proved to perform the best, the  trainingset contains 70% of the datapoints and the testset containes the remaining 30% of the datapoints."
      ]
    },
    {
      "cell_type": "code",
      "metadata": {
        "id": "Ty7PGHE6pawY",
        "colab_type": "code",
        "colab": {}
      },
      "source": [
        "winequality_X = winequality.drop('quality', axis=1)\n",
        "winequality_y = winequality['quality']\n",
        "\n",
        "wq_train_X, wq_test_X, wq_train_y, wq_test_y = train_test_split(winequality_X, winequality_y, test_size=0.3, random_state=42)\n"
      ],
      "execution_count": 0,
      "outputs": []
    },
    {
      "cell_type": "markdown",
      "metadata": {
        "id": "WHkZcKE7qaP-",
        "colab_type": "text"
      },
      "source": [
        "It can be observed from the dataset head that the features have vastly different scales on the numbers. For example are the numbers for the chlorides feature much smaller than the numbers for the total sulfur dioxide feature. Depending on the model used, this might not be an issue, but for others it can have a huge impact on performance. Because one of the models used in the model selection step are dependent on the scaling of the feature values, the features are scaled with a MinMaxScaler. This however, has to only be done for the features, and *not* for the target."
      ]
    },
    {
      "cell_type": "code",
      "metadata": {
        "id": "MFts8IJQsrxM",
        "colab_type": "code",
        "colab": {}
      },
      "source": [
        "normalizer = MinMaxScaler()\n",
        "normalizer = normalizer.fit(wq_train_X)\n",
        "wq_train_X = normalizer.transform(wq_train_X)\n",
        "wq_test_X = normalizer.transform(wq_test_X)"
      ],
      "execution_count": 0,
      "outputs": []
    },
    {
      "cell_type": "markdown",
      "metadata": {
        "id": "wFCgNVnCLB0P",
        "colab_type": "text"
      },
      "source": [
        "## Data Visualization\n"
      ]
    },
    {
      "cell_type": "markdown",
      "metadata": {
        "id": "wz687dVfjy7N",
        "colab_type": "text"
      },
      "source": [
        "After preparing our data, we need to examine how it is distributed to be able to make a clever decision about what type of model to use."
      ]
    },
    {
      "cell_type": "markdown",
      "metadata": {
        "id": "ZfQlR0eZMUjj",
        "colab_type": "text"
      },
      "source": [
        "\n",
        "\n",
        "It is observed that most densities of the variables conditioned on the quality of the wine:\n",
        "1.   Approximately follow a Gaussian distribution. \n",
        "2.   The two conditional densities follow near-identical distributions with each other apart from the 'density' variable and the 'alcohol' variable.\n",
        "\n",
        "An implication of the first is that we can standardize the data prior to building predictive models.\n",
        "\n",
        "We better visualize the 'alcohol' variable below."
      ]
    },
    {
      "cell_type": "code",
      "metadata": {
        "id": "tpKPTid-MSeS",
        "colab_type": "code",
        "outputId": "e94616d3-1605-4239-9acd-55d9b93c0bd3",
        "colab": {
          "base_uri": "https://localhost:8080/",
          "height": 312
        }
      },
      "source": [
        "qualitys = np.unique(winequality.quality.values)\n",
        "\n",
        "for q in qualitys:\n",
        "    subset = winequality[winequality['quality'] == q]\n",
        "    \n",
        "    # Draw the density plot\n",
        "    sns.distplot(subset['alcohol'], hist = False, kde = True,\n",
        "                 kde_kws = {'linewidth': 3},\n",
        "                 label = q)\n",
        "    \n",
        "# Plot formatting\n",
        "plt.legend(prop={'size': 16}, title = 'Quality')\n",
        "plt.title('Density Plot with different quality coeff')\n",
        "plt.xlabel('alcohol')\n",
        "plt.ylabel('Distribution')"
      ],
      "execution_count": 0,
      "outputs": [
        {
          "output_type": "execute_result",
          "data": {
            "text/plain": [
              "Text(0, 0.5, 'Distribution')"
            ]
          },
          "metadata": {
            "tags": []
          },
          "execution_count": 60
        },
        {
          "output_type": "display_data",
          "data": {
            "image/png": "[encoded data removed]",
            "text/plain": [
              "<Figure size 432x288 with 1 Axes>"
            ]
          },
          "metadata": {
            "tags": [],
            "needs_background": "light"
          }
        }
      ]
    },
    {
      "cell_type": "markdown",
      "metadata": {
        "id": "mY7-XBuOjCl7",
        "colab_type": "text"
      },
      "source": [
        "## Model selection "
      ]
    },
    {
      "cell_type": "markdown",
      "metadata": {
        "id": "GaqRpBvj7Htt",
        "colab_type": "text"
      },
      "source": [
        "After having prepared and visualized the data, we are ready to start selecting a model for our analysis. To start, we created a simple baseline model to have a performance measure when we evaluate the other models performance. Following that, we tried with a few common algorithms that are likely to work well with this data, before selecting the one with the best classifiaction accuracy on the testingset and lowest log loss. In the end the hyperparameters were tuned and the performance was discussed.\n",
        "\n",
        "Because about 80% of the datapoints in the dataset are \"bad\" wines, a reasonable rule of thumb for this spesific case should be an accuracy of about 80%. This would imply guessing \"bad\" on all wines, and thereby getting a correct guess for all the bad wines.\n"
      ]
    },
    {
      "cell_type": "markdown",
      "metadata": {
        "id": "TSf5osaz69_N",
        "colab_type": "text"
      },
      "source": [
        "<b>Baseline model (linear regression)</b>"
      ]
    },
    {
      "cell_type": "markdown",
      "metadata": {
        "id": "mPWrIdfdCULt",
        "colab_type": "text"
      },
      "source": [
        "The simples model are arguably the linear regression. It often failes to model complex statistical corrolations in a satisfying way, but are simple and easy to train. It is therefore chosen as the baseline model. "
      ]
    },
    {
      "cell_type": "code",
      "metadata": {
        "id": "YXbjX_t_XuVH",
        "colab_type": "code",
        "outputId": "fbb93c66-729a-4304-b5a8-3506fa6d04ef",
        "colab": {
          "base_uri": "https://localhost:8080/",
          "height": 51
        }
      },
      "source": [
        "baseline_model = LinearRegression()\n",
        "baseline_model.fit(wq_train_X, wq_train_y)\n",
        "baseline_wq_pred_y = pd.DataFrame(np.round(baseline_model.predict(wq_test_X)))\n",
        "baseline_acc = accuracy_score(wq_test_y, baseline_wq_pred_y)\n",
        "print('Baseline testing accuracy:', baseline_acc)\n",
        "baseline_log_loss = log_loss(baseline_wq_pred_y, wq_test_y)\n",
        "print('Baseline log loss: ', baseline_log_loss)"
      ],
      "execution_count": 0,
      "outputs": [
        {
          "output_type": "stream",
          "text": [
            "Baseline testing accuracy: 0.8180809761508597\n",
            "Baseline log loss:  6.283389539868494\n"
          ],
          "name": "stdout"
        }
      ]
    },
    {
      "cell_type": "markdown",
      "metadata": {
        "id": "ApVmyy4X7CyY",
        "colab_type": "text"
      },
      "source": [
        "<b>Naive Byaes</b>\n",
        "\n",
        "The 'Naive' assumption in Naive Bayes classifier is that p(x_i | y, x_1, ... , x_i-1, x_i+1, ..., x_n) = p(x_i | y).\n",
        "But let x_i = pH. The assumption obviously doesn't hold (in our case) given that the set of other variables comprises of measurements like acidity. So, given that our data violates a significant assumption of the derivation of Naive Bayes, we don't expect this model to perform te best. And as expected, the accuracy is lower than the other models."
      ]
    },
    {
      "cell_type": "code",
      "metadata": {
        "id": "wr1OpIUzYAYt",
        "colab_type": "code",
        "outputId": "9ab4db09-0e8f-41e4-9bfa-7d73c0ea3879",
        "colab": {
          "base_uri": "https://localhost:8080/",
          "height": 51
        }
      },
      "source": [
        "gnb_clf = GaussianNB()\n",
        "gnb_clf.fit(wq_train_X, wq_train_y)\n",
        "gnb_wq_pred_y = gnb_clf.predict(wq_test_X)\n",
        "gnb_acc = accuracy_score(wq_test_y, gnb_wq_pred_y)\n",
        "print('GaussianNB testing accuracy:', gnb_acc)\n",
        "gnb_log_loss = log_loss(gnb_wq_pred_y, wq_test_y)\n",
        "print('GauusianNB log loss: ', gnb_log_loss)"
      ],
      "execution_count": 0,
      "outputs": [
        {
          "output_type": "stream",
          "text": [
            "GaussianNB testing accuracy: 0.7609539656128674\n",
            "GauusianNB log loss:  8.25642405203607\n"
          ],
          "name": "stdout"
        }
      ]
    },
    {
      "cell_type": "markdown",
      "metadata": {
        "id": "6chRSS627Giy",
        "colab_type": "text"
      },
      "source": [
        "<b>SVC</b> "
      ]
    },
    {
      "cell_type": "code",
      "metadata": {
        "id": "Ejs7Lu9xYQHU",
        "colab_type": "code",
        "outputId": "1497c3b2-c8d5-481e-badd-1da2b2647796",
        "colab": {
          "base_uri": "https://localhost:8080/",
          "height": 51
        }
      },
      "source": [
        "svm_clf = svm.SVC()\n",
        "svm_clf.fit(wq_train_X, wq_train_y)\n",
        "\n",
        "#linear_SVC\n",
        "svm_wq_pred_y = svm_clf.predict(wq_test_X)\n",
        "svm_acc = accuracy_score(wq_test_y, svm_wq_pred_y)\n",
        "print('SVC testing accuracy:', svm_acc)\n",
        "svm_log_loss = log_loss(svm_wq_pred_y, wq_test_y)\n",
        "print('SVM log loss: ', svm_log_loss)"
      ],
      "execution_count": 0,
      "outputs": [
        {
          "output_type": "stream",
          "text": [
            "SVC testing accuracy: 0.8291735995562951\n",
            "SVM log loss:  5.900250152503794\n"
          ],
          "name": "stdout"
        }
      ]
    },
    {
      "cell_type": "markdown",
      "metadata": {
        "id": "zwDD0J7_bqzz",
        "colab_type": "text"
      },
      "source": [
        "**KNN**"
      ]
    },
    {
      "cell_type": "code",
      "metadata": {
        "id": "cOAczKL8btxe",
        "colab_type": "code",
        "outputId": "15aef33c-c472-41f1-9293-565954c22cfc",
        "colab": {
          "base_uri": "https://localhost:8080/",
          "height": 51
        }
      },
      "source": [
        "knn_clf = KNeighborsClassifier(n_neighbors=2)\n",
        "knn_clf.fit(wq_train_X, wq_train_y)\n",
        "knn_wq_pred_y = knn_clf.predict(wq_test_X)\n",
        "knn_acc = accuracy_score(wq_test_y, knn_wq_pred_y)\n",
        "print('KNN testing accuracy:', knn_acc)\n",
        "knn_log_loss = log_loss(knn_wq_pred_y, wq_test_y)\n",
        "print('KNN log loss: ', knn_log_loss)"
      ],
      "execution_count": 0,
      "outputs": [
        {
          "output_type": "stream",
          "text": [
            "KNN testing accuracy: 0.8546866333887965\n",
            "KNN log loss:  5.019039007724316\n"
          ],
          "name": "stdout"
        }
      ]
    },
    {
      "cell_type": "markdown",
      "metadata": {
        "id": "8fO7pkc-7RLQ",
        "colab_type": "text"
      },
      "source": [
        "<b>Linear Discriminant Analysis</b> "
      ]
    },
    {
      "cell_type": "code",
      "metadata": {
        "id": "9ppSJwrLYTJc",
        "colab_type": "code",
        "outputId": "b0a4cd6d-59c1-464b-9a44-3d9d84b4403c",
        "colab": {
          "base_uri": "https://localhost:8080/",
          "height": 51
        }
      },
      "source": [
        "lda_clf = LinearDiscriminantAnalysis()\n",
        "lda_clf.fit(wq_train_X, wq_train_y)\n",
        "lda_wq_pred_y = lda_clf.predict(wq_test_X)\n",
        "lda_acc = accuracy_score(wq_test_y, lda_wq_pred_y)\n",
        "print('LDA testing accuracy:', lda_acc)\n",
        "lda_log_loss = log_loss(lda_wq_pred_y, wq_test_y)\n",
        "print('LDA log loss: ', lda_log_loss)"
      ],
      "execution_count": 0,
      "outputs": [
        {
          "output_type": "stream",
          "text": [
            "LDA testing accuracy: 0.8130892956184138\n",
            "LDA log loss:  6.455778338347132\n"
          ],
          "name": "stdout"
        }
      ]
    },
    {
      "cell_type": "markdown",
      "metadata": {
        "id": "19SjSL39x4jL",
        "colab_type": "text"
      },
      "source": [
        "<b>Random Forest</b> "
      ]
    },
    {
      "cell_type": "markdown",
      "metadata": {
        "id": "3kveC-iTFub4",
        "colab_type": "text"
      },
      "source": [
        "There are many ways to construct a random forest — these differences in the method of construction are described as tuning parameters. One of the most important tuning parameters in building a random forest is the number of trees to construct. \n",
        "\n",
        "We will try adjusting the following set of hyperparameters:\n",
        "-  *n_estimators* is the parameter specifying the number of trees inRandomForestClassifier \n",
        "- *max_depth* is the parameter specifying the maximum depth of each tree.\n"
      ]
    },
    {
      "cell_type": "code",
      "metadata": {
        "id": "zxRGcLbxyBeQ",
        "colab_type": "code",
        "outputId": "bf973db5-cb8c-404b-e260-cd76bcd29206",
        "colab": {
          "base_uri": "https://localhost:8080/",
          "height": 51
        }
      },
      "source": [
        "RF_clf = RandomForestClassifier(n_estimators = 100, max_depth=30)\n",
        "RF_clf.fit(wq_train_X, wq_train_y)\n",
        "RF_wq_pred_y = RF_clf.predict(wq_test_X)\n",
        "print(\"Random forest testing accuracy :\", accuracy_score(RF_wq_pred_y, wq_test_y))\n",
        "\n",
        "RF_log_loss = log_loss(RF_wq_pred_y, wq_test_y)\n",
        "print('Random forest log loss: ', RF_log_loss)"
      ],
      "execution_count": 0,
      "outputs": [
        {
          "output_type": "stream",
          "text": [
            "Random forest testing accuracy : 0.8785357737104825\n",
            "Random forest log loss:  4.1953011436764145\n"
          ],
          "name": "stdout"
        }
      ]
    },
    {
      "cell_type": "markdown",
      "metadata": {
        "id": "SAFMhR5UmcMw",
        "colab_type": "text"
      },
      "source": [
        "**Neural network**"
      ]
    },
    {
      "cell_type": "markdown",
      "metadata": {
        "id": "ID4-erCMZXNJ",
        "colab_type": "text"
      },
      "source": [
        "**Hyper parameter tuning**\n",
        "\n"
      ]
    },
    {
      "cell_type": "markdown",
      "metadata": {
        "id": "9jJu1zSdkYxG",
        "colab_type": "text"
      },
      "source": [
        "The model that performed the best on the testset was the random forest classifier. It needs to be further refined by tuning the hyperparameters so we can achieve an even better accuracy.\n"
      ]
    },
    {
      "cell_type": "code",
      "metadata": {
        "id": "AftKQdapkZl0",
        "colab_type": "code",
        "colab": {}
      },
      "source": [
        "parameters = { \n",
        "              'n_estimators': [50, 100, 150, 200, 250],\n",
        "              'max_depth': [5, 10, 15, 20, 25, 30, 35, 40, 45]\n",
        "             }\n",
        "RF_clf_tuned = RandomForestClassifier()\n",
        "RF_clf_tuned = GridSearchCV(RF_clf_tuned, param_grid=parameters, scoring='neg_log_loss',cv=10)\n",
        "RF_clf_tuned.fit(wq_train_X, wq_train_y)\n",
        "print(\"The best parameters are: \", RF_clf_tuned.best_params_)\n",
        "\n",
        "RF_tuned_wq_pred_y_train = RF_clf_tuned.predict(wq_train_X)\n",
        "print(\"Random forest training accuracy :\", accuracy_score(RF_tuned_wq_pred_y_train, wq_train_y))\n",
        "\n",
        "RF_tuned_wq_pred_y_test = RF_clf_tuned.predict(wq_test_X)\n",
        "print(\"Random forest testing accuracy :\", accuracy_score(RF_tuned_wq_pred_y_test, wq_test_y))\n",
        "\n",
        "RF_tuned_log_loss = log_loss(RF_tuned_wq_pred_y_test, wq_test_y)\n",
        "print('Random forest log loss: ', RF_log_loss)"
      ],
      "execution_count": 0,
      "outputs": []
    },
    {
      "cell_type": "markdown",
      "metadata": {
        "id": "zYbj0rUh6hk-",
        "colab_type": "text"
      },
      "source": [
        "## Performance evaluation"
      ]
    },
    {
      "cell_type": "markdown",
      "metadata": {
        "id": "1M62nvm7ZkGX",
        "colab_type": "text"
      },
      "source": [
        "The random forest model with tuned hyperparameters achieves an accuracy on the testset of 0.88, which are better than the baseline of 0.82, and the random guess of 0.8. An accuracy on the trainingset of X.XX indicates that we do not have a problem with overfitting, and the model should generalize well to unseen data. Give the nature of ensamble models, and the high complexity of a random tree with XXX layers, it would have been likely for the model to overfit."
      ]
    },
    {
      "cell_type": "markdown",
      "metadata": {
        "id": "_i51wXIzJG9L",
        "colab_type": "text"
      },
      "source": [
        "## Data Imbalance, the F-Measure & Recall Issue\n",
        "\n",
        "It is important to aknowledge that accuracy by itself can be meaningless in Machine Learning. \n",
        "\n",
        "That is usually the case in classification problems when the dataset is highly imbalanced. \n",
        "\n",
        "Let's visualize the quality distribution of the wine data.\n",
        "\n"
      ]
    },
    {
      "cell_type": "code",
      "metadata": {
        "id": "GGaaozSqOptf",
        "colab_type": "code",
        "outputId": "4e2aaf65-bb1e-417d-bd7c-78c4554d734f",
        "colab": {
          "base_uri": "https://localhost:8080/",
          "height": 298
        }
      },
      "source": [
        "ls = [int(f) for f in winequality.quality.values]\n",
        "plt.hist(ls, bins = np.arange(3)-0.5, align = 'mid', color = 'orange')\n",
        "plt.xticks([0,1])\n",
        "plt.title('Distribution of low quality vs high quality wine')"
      ],
      "execution_count": 0,
      "outputs": [
        {
          "output_type": "execute_result",
          "data": {
            "text/plain": [
              "Text(0.5, 1.0, 'Distribution of low quality vs high quality wine')"
            ]
          },
          "metadata": {
            "tags": []
          },
          "execution_count": 16
        },
        {
          "output_type": "display_data",
          "data": {
            "image/png": "[encoded data removed]",
            "text/plain": [
              "<Figure size 432x288 with 1 Axes>"
            ]
          },
          "metadata": {
            "tags": [],
            "needs_background": "light"
          }
        }
      ]
    },
    {
      "cell_type": "markdown",
      "metadata": {
        "id": "95o2XHP2SxqJ",
        "colab_type": "text"
      },
      "source": [
        "We can see that the ratio of low quality to high quality wine is around 4:1. This means that even if we always classify a wine type as low quality, we will be correct roughly 80% of the time.\n",
        "\n",
        "It's in situations like these that accuracy loses meaning. We use F-measure & Recall in this situation, which are useful metrics for imbalanced datasets. They basically enable us to see how well we are doing on classifying different classes.\n",
        "\n",
        "We check both these metrics for SVM."
      ]
    },
    {
      "cell_type": "code",
      "metadata": {
        "id": "dL8ESgAkWViT",
        "colab_type": "code",
        "outputId": "cec6af5c-1ebf-4dbb-b7bd-e76cf16c6cf8",
        "colab": {
          "base_uri": "https://localhost:8080/",
          "height": 68
        }
      },
      "source": [
        "precision, recallSVM, fscoreSVM, support = score(wq_test_y, svm_wq_pred_y)\n",
        "\n",
        "print('SVM:')\n",
        "print('recall for low quality wine: {} ; recall for high quality wine {}'.format(np.round(recallSVM[0], 2), np.round(recallSVM[1], 2)))\n",
        "print('f-score for low quality wine: {} ; fscore for high quality wine {}'.format(np.round(fscoreSVM[0], 2), np.round(fscoreSVM[1], 2)))"
      ],
      "execution_count": 0,
      "outputs": [
        {
          "output_type": "stream",
          "text": [
            "SVM:\n",
            "recall for low quality wine: 0.97 ; recall for high quality wine 0.26\n",
            "f-score for low quality wine: 0.9 ; fscore for high quality wine 0.37\n"
          ],
          "name": "stdout"
        }
      ]
    },
    {
      "cell_type": "markdown",
      "metadata": {
        "id": "8QvcFq3ObFCv",
        "colab_type": "text"
      },
      "source": [
        "A possible solution to the dataset imbalance is data oversampling. That is, during training, we sample data from the minority class with repetition. Thus removing the bias created by the dominating quantity of one class. \n",
        "\n",
        "We now choose that the cardinality of the high quality training dataset be 60% of the cardinality of the low quality dataset. "
      ]
    },
    {
      "cell_type": "code",
      "metadata": {
        "id": "MlN34pJstRx0",
        "colab_type": "code",
        "outputId": "bbe15cbf-a155-40e6-a933-6a79fe075f08",
        "colab": {
          "base_uri": "https://localhost:8080/",
          "height": 71
        }
      },
      "source": [
        "oversample = RandomOverSampler(ratio = 0.6)\n",
        "os_wq_train_X, os_wq_train_y = oversample.fit_sample(wq_train_X, wq_train_y)"
      ],
      "execution_count": 0,
      "outputs": [
        {
          "output_type": "stream",
          "text": [
            "/usr/local/lib/python3.6/dist-packages/sklearn/utils/deprecation.py:87: FutureWarning: Function safe_indexing is deprecated; safe_indexing is deprecated in version 0.22 and will be removed in version 0.24.\n",
            "  warnings.warn(msg, category=FutureWarning)\n"
          ],
          "name": "stderr"
        }
      ]
    },
    {
      "cell_type": "markdown",
      "metadata": {
        "id": "9VcA0fQBd03k",
        "colab_type": "text"
      },
      "source": [
        "Let's visualize the new class distribution of the training data. "
      ]
    },
    {
      "cell_type": "code",
      "metadata": {
        "id": "G82qi9lPmLiH",
        "colab_type": "code",
        "outputId": "cd40b2d5-8acb-45f9-9c90-05eeb097ff7b",
        "colab": {
          "base_uri": "https://localhost:8080/",
          "height": 298
        }
      },
      "source": [
        "ls = [int(f) for f in os_wq_train_y]\n",
        "plt.hist(ls, bins = np.arange(3)-0.5, align = 'mid', color = 'orange')\n",
        "plt.xticks([0,1])\n",
        "plt.title('Distribution of low quality vs high quality wine')"
      ],
      "execution_count": 0,
      "outputs": [
        {
          "output_type": "execute_result",
          "data": {
            "text/plain": [
              "Text(0.5, 1.0, 'Distribution of low quality vs high quality wine')"
            ]
          },
          "metadata": {
            "tags": []
          },
          "execution_count": 114
        },
        {
          "output_type": "display_data",
          "data": {
            "image/png": "[encoded data removed]",
            "text/plain": [
              "<Figure size 432x288 with 1 Axes>"
            ]
          },
          "metadata": {
            "tags": [],
            "needs_background": "light"
          }
        }
      ]
    },
    {
      "cell_type": "markdown",
      "metadata": {
        "id": "_gz1wLLQfcPh",
        "colab_type": "text"
      },
      "source": [
        "We re-train/test the algorithm (SVM) above using the \"new\" training data."
      ]
    },
    {
      "cell_type": "markdown",
      "metadata": {
        "id": "1uTk3XY8fs-C",
        "colab_type": "text"
      },
      "source": [
        "<b>SVM via Over Samling</b>"
      ]
    },
    {
      "cell_type": "code",
      "metadata": {
        "id": "MrVTcZjrfyaZ",
        "colab_type": "code",
        "outputId": "28ca6e2f-539f-4b87-fa06-77ea483e93db",
        "colab": {
          "base_uri": "https://localhost:8080/",
          "height": 102
        }
      },
      "source": [
        "svm_clf_os = svm.SVC()\n",
        "svm_clf_os.fit(os_wq_train_X, os_wq_train_y)\n",
        "#linear_SVC\n",
        "svm_wq_pred_y_os = svm_clf_os.predict(wq_test_X)\n",
        "svm_log_loss = log_loss(svm_wq_pred_y, wq_test_y)\n",
        "svm_acc = accuracy_score(wq_test_y, svm_wq_pred_y)\n",
        "precision, recallOSVM, fscoreOSVM, support = score(wq_test_y, svm_wq_pred_y_os)\n",
        "\n",
        "print('SVC testing accuracy:', svm_acc)\n",
        "print('SVM log loss: ', svm_log_loss)\n",
        "print('')\n",
        "print('SVM recall for low quality wine: {} ; recall for high quality wine {}'.format(np.round(recallOSVM[0], 2), np.round(recallOSVM[1], 2)))\n",
        "print('SVM f-score for low quality wine: {} ; fscore for high quality wine {}'.format(np.round(fscoreOSVM[0], 2), np.round(fscoreOSVM[1], 2)))"
      ],
      "execution_count": 0,
      "outputs": [
        {
          "output_type": "stream",
          "text": [
            "SVC testing accuracy: 0.8291735995562951\n",
            "SVM log loss:  5.900250152503794\n",
            "\n",
            "SVM recall for low quality wine: 0.87 ; recall for high quality wine 0.66\n",
            "SVM f-score for low quality wine: 0.89 ; fscore for high quality wine 0.59\n"
          ],
          "name": "stdout"
        }
      ]
    },
    {
      "cell_type": "markdown",
      "metadata": {
        "id": "QlxPt58MTGe_",
        "colab_type": "text"
      },
      "source": [
        "<b>Random Forest via Over Sampling</b>"
      ]
    },
    {
      "cell_type": "markdown",
      "metadata": {
        "id": "1b8VSKDcgnb1",
        "colab_type": "text"
      },
      "source": [
        "<b>Visualization of Recall & F-Score after Over Sampling"
      ]
    },
    {
      "cell_type": "markdown",
      "metadata": {
        "id": "qyx1PZ-thKhP",
        "colab_type": "text"
      },
      "source": [
        "We can already tell that the Recall and F-Score for the high quality wine classification have significantly improved for SVM \n",
        "\n",
        "We now visualize the changes in Recall and F-Score with the results we obtained."
      ]
    },
    {
      "cell_type": "code",
      "metadata": {
        "id": "fotdOVQvmbrH",
        "colab_type": "code",
        "colab": {}
      },
      "source": [
        "recall_data_high = [0.16857142857142857, 0.4, 0.4, 0.28285714285714286, 0.5142857142857142]\n",
        "recall_data_low = [0.9745354439091535, 0.9642119752236752, 0.9642119752236752, 0.9408121128699243, 0.9662766689607708]\n",
        "recall_os_low = [0.836200963523744, 0.8651066758430833, 0.9318651066758431, 0.8348245010323468, 0.9552649690295939]\n",
        "recall_os_high = [0.5885714285714285, 0.66, 0.5714285714285714, 0.5885714285714285, 0.5828571428571429]\n",
        "fscore_data_high = [0.2645739910313901, 0.5166051660516605, 0.5166051660516605, 0.3700934579439253, 0.6217616580310881]\n",
        "fscore_data_low = [0.8962025316455696, 0.9144908616187989, 0.9144908616187989, 0.8902637577336373, 0.9276511397423192]\n",
        "fscore_os_low = [0.864153627311522, 0.8886532343584306, 0.9157930334798782, 0.8633451957295374, 0.9293605624372279]\n",
        "fscpre_os_high = [0.5188916876574307, 0.5945945945945946, 0.6163328197226502, 0.5175879396984924, 0.6591276252019386]"
      ],
      "execution_count": 0,
      "outputs": []
    },
    {
      "cell_type": "code",
      "metadata": {
        "id": "UUKGSGs-i0r1",
        "colab_type": "code",
        "colab": {}
      },
      "source": [
        "barWidth = 0.25\n",
        "r1 = np.arange(5)\n",
        "r2 = [x + barWidth for x in r1]"
      ],
      "execution_count": 0,
      "outputs": []
    },
    {
      "cell_type": "code",
      "metadata": {
        "id": "ut2EJOLkna6B",
        "colab_type": "code",
        "outputId": "97f1006a-a91c-4942-a7ce-374e5b2a5bbf",
        "colab": {
          "base_uri": "https://localhost:8080/",
          "height": 295
        }
      },
      "source": [
        "plt.bar(r1, recall_data_low, color='#7f6d5f', width=barWidth, edgecolor='white', label='sampling')\n",
        "plt.bar(r2, recall_os_low, color='#557f2d', width=barWidth, edgecolor='white', label='oversampling')\n",
        "\n",
        "plt.title('Recall Comparison for Low Quality Wine')\n",
        "plt.xlabel('Models', fontweight='bold')\n",
        "plt.ylabel('Recall', fontweight='bold')\n",
        "plt.xticks([r + barWidth for r in range(5)], ['LR', 'SVM', 'KNN', 'LDA', 'RF'])\n",
        "plt.legend()\n",
        "plt.show()\n"
      ],
      "execution_count": 0,
      "outputs": [
        {
          "output_type": "display_data",
          "data": {
            "image/png": "[encoded data removed]",
            "text/plain": [
              "<Figure size 432x288 with 1 Axes>"
            ]
          },
          "metadata": {
            "tags": [],
            "needs_background": "light"
          }
        }
      ]
    },
    {
      "cell_type": "code",
      "metadata": {
        "id": "pjhIoVVAmxbn",
        "colab_type": "code",
        "outputId": "80653f7f-a96d-406e-9814-ad2670f23386",
        "colab": {
          "base_uri": "https://localhost:8080/",
          "height": 295
        }
      },
      "source": [
        "plt.bar(r1, recall_data_high, color='#7f6d5f', width=barWidth, edgecolor='white', label='sampling')\n",
        "plt.bar(r2, recall_os_high, color='#557f2d', width=barWidth, edgecolor='white', label='oversampling')\n",
        "\n",
        "plt.title('Recall Comparison for High Quality Wine')\n",
        "plt.xlabel('Models', fontweight='bold')\n",
        "plt.ylabel('Recall', fontweight='bold')\n",
        "plt.xticks([r + barWidth for r in range(5)], ['LR', 'SVM', 'KNN', 'LDA', 'RF'])\n",
        "plt.legend()\n",
        "plt.show()\n"
      ],
      "execution_count": 0,
      "outputs": [
        {
          "output_type": "display_data",
          "data": {
            "image/png": "[encoded data removed]",
            "text/plain": [
              "<Figure size 432x288 with 1 Axes>"
            ]
          },
          "metadata": {
            "tags": [],
            "needs_background": "light"
          }
        }
      ]
    },
    {
      "cell_type": "code",
      "metadata": {
        "id": "8YYcgetyph6T",
        "colab_type": "code",
        "outputId": "9185371d-b33a-4266-a6b3-9e218ce76137",
        "colab": {
          "base_uri": "https://localhost:8080/",
          "height": 295
        }
      },
      "source": [
        "plt.bar(r1, fscore_data_low, color='#7f6d5f', width=barWidth, edgecolor='white', label='sampling')\n",
        "plt.bar(r2, fscore_os_low, color='#557f2d', width=barWidth, edgecolor='white', label='oversampling')\n",
        "\n",
        "plt.title('fscore Comparison for Low Quality Wine')\n",
        "plt.xlabel('Models', fontweight='bold')\n",
        "plt.ylabel('Recall', fontweight='bold')\n",
        "plt.xticks([r + barWidth for r in range(5)], ['LR', 'SVM', 'KNN', 'LDA', 'RF'])\n",
        "plt.legend()\n",
        "plt.show()"
      ],
      "execution_count": 0,
      "outputs": [
        {
          "output_type": "display_data",
          "data": {
            "image/png": "[encoded data removed]",
            "text/plain": [
              "<Figure size 432x288 with 1 Axes>"
            ]
          },
          "metadata": {
            "tags": [],
            "needs_background": "light"
          }
        }
      ]
    },
    {
      "cell_type": "code",
      "metadata": {
        "id": "FigUWfTLqEfn",
        "colab_type": "code",
        "outputId": "4d368bc5-d4e3-40f4-a0d7-12567ecddcc2",
        "colab": {
          "base_uri": "https://localhost:8080/",
          "height": 295
        }
      },
      "source": [
        "plt.bar(r1, fscore_data_high, color='#7f6d5f', width=barWidth, edgecolor='white', label='sampling')\n",
        "plt.bar(r2, fscore_os_high, color='#557f2d', width=barWidth, edgecolor='white', label='oversampling')\n",
        "\n",
        "plt.title('fscore Comparison for High Quality Wine')\n",
        "plt.xlabel('Models', fontweight='bold')\n",
        "plt.ylabel('Recall', fontweight='bold')\n",
        "plt.xticks([r + barWidth for r in range(5)], ['LR', 'SVM', 'KNN', 'LDA', 'RF'])\n",
        "plt.legend()\n",
        "plt.show()"
      ],
      "execution_count": 0,
      "outputs": [
        {
          "output_type": "display_data",
          "data": {
            "image/png": "[encoded data removed]",
            "text/plain": [
              "<Figure size 432x288 with 1 Axes>"
            ]
          },
          "metadata": {
            "tags": [],
            "needs_background": "light"
          }
        }
      ]
    },
    {
      "cell_type": "markdown",
      "metadata": {
        "id": "CuXUcU5As6Av",
        "colab_type": "text"
      },
      "source": [
        "As noticed, the performance on the Low Quality wine has only slightly gone down. Whereas the performance for the High Quality Wine has gone up by a lot. We evaluated the situation this way: having a model that is correct because one class dominates is not useful. We desire to recognize the other class. \n",
        "\n",
        "So we agree that oversampling helped our predictions significantly since now our model is much more capable of identifying a high quality wine. There is something that the model \"sacrificed\" to increase its capability. But the sacrifice was very minimal since its ability to recognize low quality wine decreased very little."
      ]
    },
    {
      "cell_type": "markdown",
      "metadata": {
        "id": "zn8NNS16w5zc",
        "colab_type": "text"
      },
      "source": [
        "## Conclusion \n",
        "\n",
        "Based on the analysis made we come to the conclusion that not all input features are essential and affect the data. \n",
        "\n",
        "Without oversampling we have achieved above 80% accuracy in 4/5 models selected but noticed that metrics that give evaluation specifically in different classes have shown inconsistency. \n",
        "\n",
        "We performed oversampling to have a more even performance on the different classes and thus generalize better.\n",
        "\n"
      ]
    },
    {
      "cell_type": "code",
      "metadata": {
        "id": "ba4GKfzQqOfD",
        "colab_type": "code",
        "colab": {}
      },
      "source": [
        ""
      ],
      "execution_count": 0,
      "outputs": []
    }
  ]
}